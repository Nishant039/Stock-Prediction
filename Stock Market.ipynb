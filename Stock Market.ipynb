{
 "cells": [
  {
   "cell_type": "code",
   "execution_count": 1,
   "metadata": {},
   "outputs": [],
   "source": [
    "import pandas as pd\n",
    "import numpy as np\n",
    "import matplotlib.pyplot as plt"
   ]
  },
  {
   "cell_type": "code",
   "execution_count": 2,
   "metadata": {},
   "outputs": [],
   "source": [
    "df=pd.read_csv('stock_data.csv',header=[0,1],skiprows=[2],parse_dates=True)"
   ]
  },
  {
   "cell_type": "code",
   "execution_count": 3,
   "metadata": {},
   "outputs": [
    {
     "data": {
      "text/plain": [
       "(1295, 6523)"
      ]
     },
     "execution_count": 3,
     "metadata": {},
     "output_type": "execute_result"
    }
   ],
   "source": [
    "df.shape"
   ]
  },
  {
   "cell_type": "code",
   "execution_count": 4,
   "metadata": {},
   "outputs": [],
   "source": [
    "df.set_index(df.columns[0],inplace=True)\n",
    "df.index.name=\"Date\"\n",
    "df.index=pd.to_datetime(df.index)"
   ]
  },
  {
   "cell_type": "code",
   "execution_count": 5,
   "metadata": {},
   "outputs": [],
   "source": [
    "for i in df.columns:\n",
    "    df[i]=df[i].fillna(method='ffill').fillna(method='bfill')"
   ]
  },
  {
   "cell_type": "code",
   "execution_count": 6,
   "metadata": {},
   "outputs": [
    {
     "data": {
      "text/html": [
       "<div>\n",
       "<style scoped>\n",
       "    .dataframe tbody tr th:only-of-type {\n",
       "        vertical-align: middle;\n",
       "    }\n",
       "\n",
       "    .dataframe tbody tr th {\n",
       "        vertical-align: top;\n",
       "    }\n",
       "\n",
       "    .dataframe thead tr th {\n",
       "        text-align: left;\n",
       "    }\n",
       "\n",
       "    .dataframe thead tr:last-of-type th {\n",
       "        text-align: right;\n",
       "    }\n",
       "</style>\n",
       "<table border=\"1\" class=\"dataframe\">\n",
       "  <thead>\n",
       "    <tr>\n",
       "      <th></th>\n",
       "      <th colspan=\"6\" halign=\"left\">GLOBUSSPR.NS</th>\n",
       "      <th colspan=\"4\" halign=\"left\">AGRITECH.NS</th>\n",
       "      <th>...</th>\n",
       "      <th colspan=\"4\" halign=\"left\">RKFORGE.NS</th>\n",
       "      <th colspan=\"6\" halign=\"left\">VAKRANGEE.NS</th>\n",
       "    </tr>\n",
       "    <tr>\n",
       "      <th></th>\n",
       "      <th>Open</th>\n",
       "      <th>High</th>\n",
       "      <th>Low</th>\n",
       "      <th>Close</th>\n",
       "      <th>Adj Close</th>\n",
       "      <th>Volume</th>\n",
       "      <th>Open</th>\n",
       "      <th>High</th>\n",
       "      <th>Low</th>\n",
       "      <th>Close</th>\n",
       "      <th>...</th>\n",
       "      <th>Low</th>\n",
       "      <th>Close</th>\n",
       "      <th>Adj Close</th>\n",
       "      <th>Volume</th>\n",
       "      <th>Open</th>\n",
       "      <th>High</th>\n",
       "      <th>Low</th>\n",
       "      <th>Close</th>\n",
       "      <th>Adj Close</th>\n",
       "      <th>Volume</th>\n",
       "    </tr>\n",
       "    <tr>\n",
       "      <th>Date</th>\n",
       "      <th></th>\n",
       "      <th></th>\n",
       "      <th></th>\n",
       "      <th></th>\n",
       "      <th></th>\n",
       "      <th></th>\n",
       "      <th></th>\n",
       "      <th></th>\n",
       "      <th></th>\n",
       "      <th></th>\n",
       "      <th></th>\n",
       "      <th></th>\n",
       "      <th></th>\n",
       "      <th></th>\n",
       "      <th></th>\n",
       "      <th></th>\n",
       "      <th></th>\n",
       "      <th></th>\n",
       "      <th></th>\n",
       "      <th></th>\n",
       "      <th></th>\n",
       "    </tr>\n",
       "  </thead>\n",
       "  <tbody>\n",
       "    <tr>\n",
       "      <th>2015-02-20</th>\n",
       "      <td>61.900002</td>\n",
       "      <td>61.950001</td>\n",
       "      <td>60.200001</td>\n",
       "      <td>60.400002</td>\n",
       "      <td>60.400002</td>\n",
       "      <td>32704.0</td>\n",
       "      <td>6.00</td>\n",
       "      <td>6.15</td>\n",
       "      <td>6.00</td>\n",
       "      <td>6.15</td>\n",
       "      <td>...</td>\n",
       "      <td>447.000000</td>\n",
       "      <td>454.000000</td>\n",
       "      <td>446.480896</td>\n",
       "      <td>29128.0</td>\n",
       "      <td>65.025002</td>\n",
       "      <td>67.000000</td>\n",
       "      <td>63.474998</td>\n",
       "      <td>65.000000</td>\n",
       "      <td>62.598267</td>\n",
       "      <td>1236900.0</td>\n",
       "    </tr>\n",
       "    <tr>\n",
       "      <th>2015-02-23</th>\n",
       "      <td>61.900002</td>\n",
       "      <td>61.950001</td>\n",
       "      <td>60.200001</td>\n",
       "      <td>60.400002</td>\n",
       "      <td>60.400002</td>\n",
       "      <td>32704.0</td>\n",
       "      <td>6.00</td>\n",
       "      <td>6.15</td>\n",
       "      <td>6.00</td>\n",
       "      <td>6.15</td>\n",
       "      <td>...</td>\n",
       "      <td>447.000000</td>\n",
       "      <td>454.000000</td>\n",
       "      <td>446.480896</td>\n",
       "      <td>29128.0</td>\n",
       "      <td>65.025002</td>\n",
       "      <td>67.000000</td>\n",
       "      <td>63.474998</td>\n",
       "      <td>65.000000</td>\n",
       "      <td>62.598267</td>\n",
       "      <td>1236900.0</td>\n",
       "    </tr>\n",
       "    <tr>\n",
       "      <th>2015-02-24</th>\n",
       "      <td>61.349998</td>\n",
       "      <td>61.349998</td>\n",
       "      <td>58.950001</td>\n",
       "      <td>59.250000</td>\n",
       "      <td>59.250000</td>\n",
       "      <td>26033.0</td>\n",
       "      <td>6.05</td>\n",
       "      <td>6.45</td>\n",
       "      <td>6.05</td>\n",
       "      <td>6.45</td>\n",
       "      <td>...</td>\n",
       "      <td>436.600006</td>\n",
       "      <td>442.549988</td>\n",
       "      <td>435.220520</td>\n",
       "      <td>22574.0</td>\n",
       "      <td>64.000000</td>\n",
       "      <td>65.099998</td>\n",
       "      <td>63.275002</td>\n",
       "      <td>63.775002</td>\n",
       "      <td>61.418545</td>\n",
       "      <td>940008.0</td>\n",
       "    </tr>\n",
       "    <tr>\n",
       "      <th>2015-02-25</th>\n",
       "      <td>59.500000</td>\n",
       "      <td>60.950001</td>\n",
       "      <td>59.500000</td>\n",
       "      <td>59.650002</td>\n",
       "      <td>59.650002</td>\n",
       "      <td>21673.0</td>\n",
       "      <td>6.25</td>\n",
       "      <td>6.75</td>\n",
       "      <td>6.25</td>\n",
       "      <td>6.75</td>\n",
       "      <td>...</td>\n",
       "      <td>443.000000</td>\n",
       "      <td>448.649994</td>\n",
       "      <td>441.219513</td>\n",
       "      <td>31029.0</td>\n",
       "      <td>63.000000</td>\n",
       "      <td>64.025002</td>\n",
       "      <td>62.775002</td>\n",
       "      <td>63.375000</td>\n",
       "      <td>61.033318</td>\n",
       "      <td>372008.0</td>\n",
       "    </tr>\n",
       "    <tr>\n",
       "      <th>2015-02-26</th>\n",
       "      <td>60.549999</td>\n",
       "      <td>60.549999</td>\n",
       "      <td>58.400002</td>\n",
       "      <td>58.549999</td>\n",
       "      <td>58.549999</td>\n",
       "      <td>27865.0</td>\n",
       "      <td>6.50</td>\n",
       "      <td>7.05</td>\n",
       "      <td>6.50</td>\n",
       "      <td>6.70</td>\n",
       "      <td>...</td>\n",
       "      <td>430.000000</td>\n",
       "      <td>437.450012</td>\n",
       "      <td>430.205048</td>\n",
       "      <td>24995.0</td>\n",
       "      <td>63.299999</td>\n",
       "      <td>63.700001</td>\n",
       "      <td>61.750000</td>\n",
       "      <td>61.849998</td>\n",
       "      <td>59.564663</td>\n",
       "      <td>844006.0</td>\n",
       "    </tr>\n",
       "  </tbody>\n",
       "</table>\n",
       "<p>5 rows × 6522 columns</p>\n",
       "</div>"
      ],
      "text/plain": [
       "           GLOBUSSPR.NS                                                       \\\n",
       "                   Open       High        Low      Close  Adj Close   Volume   \n",
       "Date                                                                           \n",
       "2015-02-20    61.900002  61.950001  60.200001  60.400002  60.400002  32704.0   \n",
       "2015-02-23    61.900002  61.950001  60.200001  60.400002  60.400002  32704.0   \n",
       "2015-02-24    61.349998  61.349998  58.950001  59.250000  59.250000  26033.0   \n",
       "2015-02-25    59.500000  60.950001  59.500000  59.650002  59.650002  21673.0   \n",
       "2015-02-26    60.549999  60.549999  58.400002  58.549999  58.549999  27865.0   \n",
       "\n",
       "           AGRITECH.NS                    ...  RKFORGE.NS              \\\n",
       "                  Open  High   Low Close  ...         Low       Close   \n",
       "Date                                      ...                           \n",
       "2015-02-20        6.00  6.15  6.00  6.15  ...  447.000000  454.000000   \n",
       "2015-02-23        6.00  6.15  6.00  6.15  ...  447.000000  454.000000   \n",
       "2015-02-24        6.05  6.45  6.05  6.45  ...  436.600006  442.549988   \n",
       "2015-02-25        6.25  6.75  6.25  6.75  ...  443.000000  448.649994   \n",
       "2015-02-26        6.50  7.05  6.50  6.70  ...  430.000000  437.450012   \n",
       "\n",
       "                                VAKRANGEE.NS                                   \\\n",
       "             Adj Close   Volume         Open       High        Low      Close   \n",
       "Date                                                                            \n",
       "2015-02-20  446.480896  29128.0    65.025002  67.000000  63.474998  65.000000   \n",
       "2015-02-23  446.480896  29128.0    65.025002  67.000000  63.474998  65.000000   \n",
       "2015-02-24  435.220520  22574.0    64.000000  65.099998  63.275002  63.775002   \n",
       "2015-02-25  441.219513  31029.0    63.000000  64.025002  62.775002  63.375000   \n",
       "2015-02-26  430.205048  24995.0    63.299999  63.700001  61.750000  61.849998   \n",
       "\n",
       "                                  \n",
       "            Adj Close     Volume  \n",
       "Date                              \n",
       "2015-02-20  62.598267  1236900.0  \n",
       "2015-02-23  62.598267  1236900.0  \n",
       "2015-02-24  61.418545   940008.0  \n",
       "2015-02-25  61.033318   372008.0  \n",
       "2015-02-26  59.564663   844006.0  \n",
       "\n",
       "[5 rows x 6522 columns]"
      ]
     },
     "execution_count": 6,
     "metadata": {},
     "output_type": "execute_result"
    }
   ],
   "source": [
    "df.head()"
   ]
  },
  {
   "cell_type": "code",
   "execution_count": 7,
   "metadata": {},
   "outputs": [],
   "source": [
    "for i in df.columns:\n",
    "    if(any(df[i].isna())):\n",
    "        print(i)"
   ]
  },
  {
   "cell_type": "code",
   "execution_count": null,
   "metadata": {},
   "outputs": [],
   "source": []
  },
  {
   "cell_type": "code",
   "execution_count": 8,
   "metadata": {},
   "outputs": [],
   "source": [
    "X=df['GLOBUSSPR.NS']"
   ]
  },
  {
   "cell_type": "code",
   "execution_count": 9,
   "metadata": {},
   "outputs": [
    {
     "data": {
      "text/html": [
       "<div>\n",
       "<style scoped>\n",
       "    .dataframe tbody tr th:only-of-type {\n",
       "        vertical-align: middle;\n",
       "    }\n",
       "\n",
       "    .dataframe tbody tr th {\n",
       "        vertical-align: top;\n",
       "    }\n",
       "\n",
       "    .dataframe thead th {\n",
       "        text-align: right;\n",
       "    }\n",
       "</style>\n",
       "<table border=\"1\" class=\"dataframe\">\n",
       "  <thead>\n",
       "    <tr style=\"text-align: right;\">\n",
       "      <th></th>\n",
       "      <th>Open</th>\n",
       "      <th>High</th>\n",
       "      <th>Low</th>\n",
       "      <th>Close</th>\n",
       "      <th>Adj Close</th>\n",
       "      <th>Volume</th>\n",
       "    </tr>\n",
       "    <tr>\n",
       "      <th>Date</th>\n",
       "      <th></th>\n",
       "      <th></th>\n",
       "      <th></th>\n",
       "      <th></th>\n",
       "      <th></th>\n",
       "      <th></th>\n",
       "    </tr>\n",
       "  </thead>\n",
       "  <tbody>\n",
       "    <tr>\n",
       "      <th>2019-12-24</th>\n",
       "      <td>139.899994</td>\n",
       "      <td>142.800003</td>\n",
       "      <td>137.050003</td>\n",
       "      <td>140.899994</td>\n",
       "      <td>140.899994</td>\n",
       "      <td>392720.0</td>\n",
       "    </tr>\n",
       "    <tr>\n",
       "      <th>2019-12-26</th>\n",
       "      <td>141.350006</td>\n",
       "      <td>143.850006</td>\n",
       "      <td>139.050003</td>\n",
       "      <td>141.600006</td>\n",
       "      <td>141.600006</td>\n",
       "      <td>126214.0</td>\n",
       "    </tr>\n",
       "    <tr>\n",
       "      <th>2019-12-27</th>\n",
       "      <td>142.699997</td>\n",
       "      <td>143.949997</td>\n",
       "      <td>138.350006</td>\n",
       "      <td>138.850006</td>\n",
       "      <td>138.850006</td>\n",
       "      <td>49632.0</td>\n",
       "    </tr>\n",
       "    <tr>\n",
       "      <th>2019-12-30</th>\n",
       "      <td>140.000000</td>\n",
       "      <td>142.899994</td>\n",
       "      <td>139.399994</td>\n",
       "      <td>140.149994</td>\n",
       "      <td>140.149994</td>\n",
       "      <td>73693.0</td>\n",
       "    </tr>\n",
       "    <tr>\n",
       "      <th>2019-12-31</th>\n",
       "      <td>141.649994</td>\n",
       "      <td>144.000000</td>\n",
       "      <td>140.550003</td>\n",
       "      <td>141.800003</td>\n",
       "      <td>141.800003</td>\n",
       "      <td>100023.0</td>\n",
       "    </tr>\n",
       "  </tbody>\n",
       "</table>\n",
       "</div>"
      ],
      "text/plain": [
       "                  Open        High         Low       Close   Adj Close  \\\n",
       "Date                                                                     \n",
       "2019-12-24  139.899994  142.800003  137.050003  140.899994  140.899994   \n",
       "2019-12-26  141.350006  143.850006  139.050003  141.600006  141.600006   \n",
       "2019-12-27  142.699997  143.949997  138.350006  138.850006  138.850006   \n",
       "2019-12-30  140.000000  142.899994  139.399994  140.149994  140.149994   \n",
       "2019-12-31  141.649994  144.000000  140.550003  141.800003  141.800003   \n",
       "\n",
       "              Volume  \n",
       "Date                  \n",
       "2019-12-24  392720.0  \n",
       "2019-12-26  126214.0  \n",
       "2019-12-27   49632.0  \n",
       "2019-12-30   73693.0  \n",
       "2019-12-31  100023.0  "
      ]
     },
     "execution_count": 9,
     "metadata": {},
     "output_type": "execute_result"
    }
   ],
   "source": [
    "X_train=X[X.index<'2020-01-01']\n",
    "X_train.tail()"
   ]
  },
  {
   "cell_type": "code",
   "execution_count": 10,
   "metadata": {},
   "outputs": [
    {
     "data": {
      "text/html": [
       "<div>\n",
       "<style scoped>\n",
       "    .dataframe tbody tr th:only-of-type {\n",
       "        vertical-align: middle;\n",
       "    }\n",
       "\n",
       "    .dataframe tbody tr th {\n",
       "        vertical-align: top;\n",
       "    }\n",
       "\n",
       "    .dataframe thead th {\n",
       "        text-align: right;\n",
       "    }\n",
       "</style>\n",
       "<table border=\"1\" class=\"dataframe\">\n",
       "  <thead>\n",
       "    <tr style=\"text-align: right;\">\n",
       "      <th></th>\n",
       "      <th>Date</th>\n",
       "      <th>Open</th>\n",
       "      <th>High</th>\n",
       "      <th>Low</th>\n",
       "      <th>Close</th>\n",
       "      <th>Adj Close</th>\n",
       "      <th>Volume</th>\n",
       "    </tr>\n",
       "  </thead>\n",
       "  <tbody>\n",
       "    <tr>\n",
       "      <th>0</th>\n",
       "      <td>2015-02-20</td>\n",
       "      <td>61.900002</td>\n",
       "      <td>61.950001</td>\n",
       "      <td>60.200001</td>\n",
       "      <td>60.400002</td>\n",
       "      <td>60.400002</td>\n",
       "      <td>32704.0</td>\n",
       "    </tr>\n",
       "    <tr>\n",
       "      <th>1</th>\n",
       "      <td>2015-02-23</td>\n",
       "      <td>61.900002</td>\n",
       "      <td>61.950001</td>\n",
       "      <td>60.200001</td>\n",
       "      <td>60.400002</td>\n",
       "      <td>60.400002</td>\n",
       "      <td>32704.0</td>\n",
       "    </tr>\n",
       "    <tr>\n",
       "      <th>2</th>\n",
       "      <td>2015-02-24</td>\n",
       "      <td>61.349998</td>\n",
       "      <td>61.349998</td>\n",
       "      <td>58.950001</td>\n",
       "      <td>59.250000</td>\n",
       "      <td>59.250000</td>\n",
       "      <td>26033.0</td>\n",
       "    </tr>\n",
       "    <tr>\n",
       "      <th>3</th>\n",
       "      <td>2015-02-25</td>\n",
       "      <td>59.500000</td>\n",
       "      <td>60.950001</td>\n",
       "      <td>59.500000</td>\n",
       "      <td>59.650002</td>\n",
       "      <td>59.650002</td>\n",
       "      <td>21673.0</td>\n",
       "    </tr>\n",
       "    <tr>\n",
       "      <th>4</th>\n",
       "      <td>2015-02-26</td>\n",
       "      <td>60.549999</td>\n",
       "      <td>60.549999</td>\n",
       "      <td>58.400002</td>\n",
       "      <td>58.549999</td>\n",
       "      <td>58.549999</td>\n",
       "      <td>27865.0</td>\n",
       "    </tr>\n",
       "    <tr>\n",
       "      <th>...</th>\n",
       "      <td>...</td>\n",
       "      <td>...</td>\n",
       "      <td>...</td>\n",
       "      <td>...</td>\n",
       "      <td>...</td>\n",
       "      <td>...</td>\n",
       "      <td>...</td>\n",
       "    </tr>\n",
       "    <tr>\n",
       "      <th>1252</th>\n",
       "      <td>2019-12-24</td>\n",
       "      <td>139.899994</td>\n",
       "      <td>142.800003</td>\n",
       "      <td>137.050003</td>\n",
       "      <td>140.899994</td>\n",
       "      <td>140.899994</td>\n",
       "      <td>392720.0</td>\n",
       "    </tr>\n",
       "    <tr>\n",
       "      <th>1253</th>\n",
       "      <td>2019-12-26</td>\n",
       "      <td>141.350006</td>\n",
       "      <td>143.850006</td>\n",
       "      <td>139.050003</td>\n",
       "      <td>141.600006</td>\n",
       "      <td>141.600006</td>\n",
       "      <td>126214.0</td>\n",
       "    </tr>\n",
       "    <tr>\n",
       "      <th>1254</th>\n",
       "      <td>2019-12-27</td>\n",
       "      <td>142.699997</td>\n",
       "      <td>143.949997</td>\n",
       "      <td>138.350006</td>\n",
       "      <td>138.850006</td>\n",
       "      <td>138.850006</td>\n",
       "      <td>49632.0</td>\n",
       "    </tr>\n",
       "    <tr>\n",
       "      <th>1255</th>\n",
       "      <td>2019-12-30</td>\n",
       "      <td>140.000000</td>\n",
       "      <td>142.899994</td>\n",
       "      <td>139.399994</td>\n",
       "      <td>140.149994</td>\n",
       "      <td>140.149994</td>\n",
       "      <td>73693.0</td>\n",
       "    </tr>\n",
       "    <tr>\n",
       "      <th>1256</th>\n",
       "      <td>2019-12-31</td>\n",
       "      <td>141.649994</td>\n",
       "      <td>144.000000</td>\n",
       "      <td>140.550003</td>\n",
       "      <td>141.800003</td>\n",
       "      <td>141.800003</td>\n",
       "      <td>100023.0</td>\n",
       "    </tr>\n",
       "  </tbody>\n",
       "</table>\n",
       "<p>1257 rows × 7 columns</p>\n",
       "</div>"
      ],
      "text/plain": [
       "           Date        Open        High         Low       Close   Adj Close  \\\n",
       "0    2015-02-20   61.900002   61.950001   60.200001   60.400002   60.400002   \n",
       "1    2015-02-23   61.900002   61.950001   60.200001   60.400002   60.400002   \n",
       "2    2015-02-24   61.349998   61.349998   58.950001   59.250000   59.250000   \n",
       "3    2015-02-25   59.500000   60.950001   59.500000   59.650002   59.650002   \n",
       "4    2015-02-26   60.549999   60.549999   58.400002   58.549999   58.549999   \n",
       "...         ...         ...         ...         ...         ...         ...   \n",
       "1252 2019-12-24  139.899994  142.800003  137.050003  140.899994  140.899994   \n",
       "1253 2019-12-26  141.350006  143.850006  139.050003  141.600006  141.600006   \n",
       "1254 2019-12-27  142.699997  143.949997  138.350006  138.850006  138.850006   \n",
       "1255 2019-12-30  140.000000  142.899994  139.399994  140.149994  140.149994   \n",
       "1256 2019-12-31  141.649994  144.000000  140.550003  141.800003  141.800003   \n",
       "\n",
       "        Volume  \n",
       "0      32704.0  \n",
       "1      32704.0  \n",
       "2      26033.0  \n",
       "3      21673.0  \n",
       "4      27865.0  \n",
       "...        ...  \n",
       "1252  392720.0  \n",
       "1253  126214.0  \n",
       "1254   49632.0  \n",
       "1255   73693.0  \n",
       "1256  100023.0  \n",
       "\n",
       "[1257 rows x 7 columns]"
      ]
     },
     "execution_count": 10,
     "metadata": {},
     "output_type": "execute_result"
    }
   ],
   "source": [
    "X_train.reset_index()"
   ]
  },
  {
   "cell_type": "code",
   "execution_count": 11,
   "metadata": {},
   "outputs": [],
   "source": [
    "X_train=X_train.iloc[:,0:1]"
   ]
  },
  {
   "cell_type": "code",
   "execution_count": 12,
   "metadata": {},
   "outputs": [
    {
     "data": {
      "text/html": [
       "<div>\n",
       "<style scoped>\n",
       "    .dataframe tbody tr th:only-of-type {\n",
       "        vertical-align: middle;\n",
       "    }\n",
       "\n",
       "    .dataframe tbody tr th {\n",
       "        vertical-align: top;\n",
       "    }\n",
       "\n",
       "    .dataframe thead th {\n",
       "        text-align: right;\n",
       "    }\n",
       "</style>\n",
       "<table border=\"1\" class=\"dataframe\">\n",
       "  <thead>\n",
       "    <tr style=\"text-align: right;\">\n",
       "      <th></th>\n",
       "      <th>Open</th>\n",
       "    </tr>\n",
       "    <tr>\n",
       "      <th>Date</th>\n",
       "      <th></th>\n",
       "    </tr>\n",
       "  </thead>\n",
       "  <tbody>\n",
       "    <tr>\n",
       "      <th>2015-02-20</th>\n",
       "      <td>61.900002</td>\n",
       "    </tr>\n",
       "    <tr>\n",
       "      <th>2015-02-23</th>\n",
       "      <td>61.900002</td>\n",
       "    </tr>\n",
       "    <tr>\n",
       "      <th>2015-02-24</th>\n",
       "      <td>61.349998</td>\n",
       "    </tr>\n",
       "    <tr>\n",
       "      <th>2015-02-25</th>\n",
       "      <td>59.500000</td>\n",
       "    </tr>\n",
       "    <tr>\n",
       "      <th>2015-02-26</th>\n",
       "      <td>60.549999</td>\n",
       "    </tr>\n",
       "    <tr>\n",
       "      <th>...</th>\n",
       "      <td>...</td>\n",
       "    </tr>\n",
       "    <tr>\n",
       "      <th>2019-12-24</th>\n",
       "      <td>139.899994</td>\n",
       "    </tr>\n",
       "    <tr>\n",
       "      <th>2019-12-26</th>\n",
       "      <td>141.350006</td>\n",
       "    </tr>\n",
       "    <tr>\n",
       "      <th>2019-12-27</th>\n",
       "      <td>142.699997</td>\n",
       "    </tr>\n",
       "    <tr>\n",
       "      <th>2019-12-30</th>\n",
       "      <td>140.000000</td>\n",
       "    </tr>\n",
       "    <tr>\n",
       "      <th>2019-12-31</th>\n",
       "      <td>141.649994</td>\n",
       "    </tr>\n",
       "  </tbody>\n",
       "</table>\n",
       "<p>1257 rows × 1 columns</p>\n",
       "</div>"
      ],
      "text/plain": [
       "                  Open\n",
       "Date                  \n",
       "2015-02-20   61.900002\n",
       "2015-02-23   61.900002\n",
       "2015-02-24   61.349998\n",
       "2015-02-25   59.500000\n",
       "2015-02-26   60.549999\n",
       "...                ...\n",
       "2019-12-24  139.899994\n",
       "2019-12-26  141.350006\n",
       "2019-12-27  142.699997\n",
       "2019-12-30  140.000000\n",
       "2019-12-31  141.649994\n",
       "\n",
       "[1257 rows x 1 columns]"
      ]
     },
     "execution_count": 12,
     "metadata": {},
     "output_type": "execute_result"
    }
   ],
   "source": [
    "X_train"
   ]
  },
  {
   "cell_type": "code",
   "execution_count": null,
   "metadata": {},
   "outputs": [],
   "source": []
  },
  {
   "cell_type": "code",
   "execution_count": 13,
   "metadata": {},
   "outputs": [],
   "source": [
    "from sklearn.preprocessing import MinMaxScaler\n",
    "scaler=MinMaxScaler()\n",
    "X_train_scaled=scaler.fit_transform(np.array(X_train))"
   ]
  },
  {
   "cell_type": "code",
   "execution_count": null,
   "metadata": {},
   "outputs": [],
   "source": []
  },
  {
   "cell_type": "code",
   "execution_count": 14,
   "metadata": {},
   "outputs": [],
   "source": [
    "df_train=[]\n",
    "y_train=[]\n",
    "\n",
    "for i in range(60,1257): ## Starting from 31st entry \n",
    "    df_train.append(X_train_scaled[i-60:i,0]) ## 0:29(i.e past 30 values) for i=30\n",
    "    y_train.append(X_train_scaled[i]) ##current value (ground truth)\n",
    "    \n",
    "df_train,y_train=np.array(df_train),np.array(y_train)"
   ]
  },
  {
   "cell_type": "code",
   "execution_count": 15,
   "metadata": {},
   "outputs": [
    {
     "data": {
      "text/plain": [
       "(1197, 60)"
      ]
     },
     "execution_count": 15,
     "metadata": {},
     "output_type": "execute_result"
    }
   ],
   "source": [
    "df_train.shape"
   ]
  },
  {
   "cell_type": "code",
   "execution_count": 16,
   "metadata": {},
   "outputs": [],
   "source": [
    "df_train=np.reshape(df_train,(df_train.shape[0],df_train.shape[1],1))"
   ]
  },
  {
   "cell_type": "code",
   "execution_count": null,
   "metadata": {},
   "outputs": [],
   "source": []
  },
  {
   "cell_type": "code",
   "execution_count": 17,
   "metadata": {},
   "outputs": [],
   "source": [
    "X_test=X[(X.index>='2020-01-01') & (X.index<'2020-02-01')]"
   ]
  },
  {
   "cell_type": "code",
   "execution_count": 18,
   "metadata": {},
   "outputs": [],
   "source": [
    "X_test=X_test.iloc[:,0:1]"
   ]
  },
  {
   "cell_type": "code",
   "execution_count": 19,
   "metadata": {},
   "outputs": [],
   "source": [
    "temp_x=pd.concat((X_train,X_test),axis=0)"
   ]
  },
  {
   "cell_type": "code",
   "execution_count": 20,
   "metadata": {},
   "outputs": [],
   "source": [
    "temp_x_scaled=scaler.transform(temp_x)"
   ]
  },
  {
   "cell_type": "code",
   "execution_count": 21,
   "metadata": {},
   "outputs": [],
   "source": [
    "df_test=[]\n",
    "y_test=[]\n",
    "for i in range(1257,temp_x_scaled.shape[0]):\n",
    "    df_test.append(temp_x_scaled[i-60:i,0])\n",
    "    y_test.append(temp_x_scaled[i])\n",
    "\n",
    "    \n",
    "    "
   ]
  },
  {
   "cell_type": "code",
   "execution_count": 22,
   "metadata": {},
   "outputs": [],
   "source": [
    "df_test,y_test=np.array(df_test),np.array(y_test)"
   ]
  },
  {
   "cell_type": "code",
   "execution_count": 23,
   "metadata": {},
   "outputs": [],
   "source": [
    "df_test=np.reshape(df_test,(df_test.shape[0],df_test.shape[1],1))"
   ]
  },
  {
   "cell_type": "code",
   "execution_count": 24,
   "metadata": {},
   "outputs": [
    {
     "name": "stderr",
     "output_type": "stream",
     "text": [
      "Using TensorFlow backend.\n"
     ]
    }
   ],
   "source": [
    "from keras.models import Sequential\n",
    "from keras.layers import Dense\n",
    "from keras.layers import LSTM\n",
    "from keras.layers import Dropout"
   ]
  },
  {
   "cell_type": "code",
   "execution_count": 25,
   "metadata": {},
   "outputs": [
    {
     "name": "stdout",
     "output_type": "stream",
     "text": [
      "WARNING:tensorflow:From C:\\Anaconda3\\lib\\site-packages\\tensorflow\\python\\framework\\op_def_library.py:263: colocate_with (from tensorflow.python.framework.ops) is deprecated and will be removed in a future version.\n",
      "Instructions for updating:\n",
      "Colocations handled automatically by placer.\n",
      "WARNING:tensorflow:From C:\\Anaconda3\\lib\\site-packages\\keras\\backend\\tensorflow_backend.py:1247: calling reduce_sum_v1 (from tensorflow.python.ops.math_ops) with keep_dims is deprecated and will be removed in a future version.\n",
      "Instructions for updating:\n",
      "keep_dims is deprecated, use keepdims instead\n",
      "WARNING:tensorflow:From C:\\Anaconda3\\lib\\site-packages\\keras\\backend\\tensorflow_backend.py:3019: calling dropout (from tensorflow.python.ops.nn_ops) with keep_prob is deprecated and will be removed in a future version.\n",
      "Instructions for updating:\n",
      "Please use `rate` instead of `keep_prob`. Rate should be set to `rate = 1 - keep_prob`.\n"
     ]
    }
   ],
   "source": [
    "regressor=Sequential()\n",
    "regressor.add(LSTM(units=50,return_sequences=True,input_shape=(df_train.shape[1],1)))\n",
    "regressor.add(Dropout(0.2))\n",
    "\n",
    "regressor.add(LSTM(units=50,return_sequences=True))\n",
    "regressor.add(Dropout(0.2))\n",
    "\n",
    "regressor.add(LSTM(units=50,return_sequences=True))\n",
    "regressor.add(Dropout(0.2))\n",
    "\n",
    "regressor.add(LSTM(units=50))\n",
    "regressor.add(Dropout(0.2))\n",
    "\n",
    "\n",
    "regressor.add(Dense(units=1))\n",
    "\n",
    "\n",
    "\n"
   ]
  },
  {
   "cell_type": "code",
   "execution_count": 26,
   "metadata": {},
   "outputs": [],
   "source": [
    "regressor.compile(optimizer='adam',loss='mean_squared_error')"
   ]
  },
  {
   "cell_type": "code",
   "execution_count": 27,
   "metadata": {},
   "outputs": [
    {
     "name": "stdout",
     "output_type": "stream",
     "text": [
      "WARNING:tensorflow:From C:\\Anaconda3\\lib\\site-packages\\tensorflow\\python\\ops\\math_ops.py:3066: to_int32 (from tensorflow.python.ops.math_ops) is deprecated and will be removed in a future version.\n",
      "Instructions for updating:\n",
      "Use tf.cast instead.\n",
      "Epoch 1/100\n",
      "1197/1197 [==============================] - 28s 23ms/step - loss: 0.0309\n",
      "Epoch 2/100\n",
      "1197/1197 [==============================] - 13s 11ms/step - loss: 0.0073\n",
      "Epoch 3/100\n",
      "1197/1197 [==============================] - 10s 8ms/step - loss: 0.0061\n",
      "Epoch 4/100\n",
      "1197/1197 [==============================] - 11s 10ms/step - loss: 0.0060\n",
      "Epoch 5/100\n",
      "1197/1197 [==============================] - 11s 9ms/step - loss: 0.0058\n",
      "Epoch 6/100\n",
      "1197/1197 [==============================] - 9s 8ms/step - loss: 0.0063\n",
      "Epoch 7/100\n",
      "1197/1197 [==============================] - 10s 8ms/step - loss: 0.0052\n",
      "Epoch 8/100\n",
      "1197/1197 [==============================] - 9s 7ms/step - loss: 0.0051\n",
      "Epoch 9/100\n",
      "1197/1197 [==============================] - 10s 8ms/step - loss: 0.0046\n",
      "Epoch 10/100\n",
      "1197/1197 [==============================] - 12s 10ms/step - loss: 0.0042\n",
      "Epoch 11/100\n",
      "1197/1197 [==============================] - 10s 9ms/step - loss: 0.0043\n",
      "Epoch 12/100\n",
      "1197/1197 [==============================] - 12s 10ms/step - loss: 0.0044\n",
      "Epoch 13/100\n",
      "1197/1197 [==============================] - 13s 11ms/step - loss: 0.0037\n",
      "Epoch 14/100\n",
      "1197/1197 [==============================] - 15s 12ms/step - loss: 0.0043\n",
      "Epoch 15/100\n",
      "1197/1197 [==============================] - 15s 12ms/step - loss: 0.0042\n",
      "Epoch 16/100\n",
      "1197/1197 [==============================] - 15s 12ms/step - loss: 0.0038\n",
      "Epoch 17/100\n",
      "1197/1197 [==============================] - 16s 13ms/step - loss: 0.0036\n",
      "Epoch 18/100\n",
      "1197/1197 [==============================] - 15s 13ms/step - loss: 0.0038\n",
      "Epoch 19/100\n",
      "1197/1197 [==============================] - 15s 12ms/step - loss: 0.0033\n",
      "Epoch 20/100\n",
      "1197/1197 [==============================] - 15s 12ms/step - loss: 0.0035\n",
      "Epoch 21/100\n",
      "1197/1197 [==============================] - 18s 15ms/step - loss: 0.0034\n",
      "Epoch 22/100\n",
      "1197/1197 [==============================] - 11s 9ms/step - loss: 0.0032\n",
      "Epoch 23/100\n",
      "1197/1197 [==============================] - 13s 11ms/step - loss: 0.0034\n",
      "Epoch 24/100\n",
      "1197/1197 [==============================] - 9s 7ms/step - loss: 0.0030\n",
      "Epoch 25/100\n",
      "1197/1197 [==============================] - 10s 8ms/step - loss: 0.0031\n",
      "Epoch 26/100\n",
      "1197/1197 [==============================] - 9s 8ms/step - loss: 0.0029\n",
      "Epoch 27/100\n",
      "1197/1197 [==============================] - 8s 6ms/step - loss: 0.0033\n",
      "Epoch 28/100\n",
      "1197/1197 [==============================] - 9s 8ms/step - loss: 0.0027\n",
      "Epoch 29/100\n",
      "1197/1197 [==============================] - 10s 8ms/step - loss: 0.0030\n",
      "Epoch 30/100\n",
      "1197/1197 [==============================] - 8s 7ms/step - loss: 0.0028\n",
      "Epoch 31/100\n",
      "1197/1197 [==============================] - 9s 7ms/step - loss: 0.0033\n",
      "Epoch 32/100\n",
      "1197/1197 [==============================] - 13s 11ms/step - loss: 0.0029\n",
      "Epoch 33/100\n",
      "1197/1197 [==============================] - 33s 28ms/step - loss: 0.0026\n",
      "Epoch 34/100\n",
      "1197/1197 [==============================] - 18s 15ms/step - loss: 0.0026\n",
      "Epoch 35/100\n",
      "1197/1197 [==============================] - 20s 17ms/step - loss: 0.0025\n",
      "Epoch 36/100\n",
      "1197/1197 [==============================] - 13s 11ms/step - loss: 0.0029\n",
      "Epoch 37/100\n",
      "1197/1197 [==============================] - 9s 7ms/step - loss: 0.0025\n",
      "Epoch 38/100\n",
      "1197/1197 [==============================] - 6s 5ms/step - loss: 0.0025\n",
      "Epoch 39/100\n",
      "1197/1197 [==============================] - 6s 5ms/step - loss: 0.0024\n",
      "Epoch 40/100\n",
      "1197/1197 [==============================] - 7s 5ms/step - loss: 0.0024\n",
      "Epoch 41/100\n",
      "1197/1197 [==============================] - 11s 10ms/step - loss: 0.0025\n",
      "Epoch 42/100\n",
      "1197/1197 [==============================] - 8s 7ms/step - loss: 0.0024\n",
      "Epoch 43/100\n",
      "1197/1197 [==============================] - 8s 7ms/step - loss: 0.0026A: 0s - loss: 0\n",
      "Epoch 44/100\n",
      "1197/1197 [==============================] - 8s 7ms/step - loss: 0.0022\n",
      "Epoch 45/100\n",
      "1197/1197 [==============================] - 9s 7ms/step - loss: 0.0022\n",
      "Epoch 46/100\n",
      "1197/1197 [==============================] - 8s 7ms/step - loss: 0.0020\n",
      "Epoch 47/100\n",
      "1197/1197 [==============================] - 9s 7ms/step - loss: 0.0021\n",
      "Epoch 48/100\n",
      "1197/1197 [==============================] - 8s 7ms/step - loss: 0.0019\n",
      "Epoch 49/100\n",
      "1197/1197 [==============================] - 8s 6ms/step - loss: 0.0019\n",
      "Epoch 50/100\n",
      "1197/1197 [==============================] - 8s 6ms/step - loss: 0.0019\n",
      "Epoch 51/100\n",
      "1197/1197 [==============================] - 14s 12ms/step - loss: 0.0019\n",
      "Epoch 52/100\n",
      "1197/1197 [==============================] - 9s 7ms/step - loss: 0.0021\n",
      "Epoch 53/100\n",
      "1197/1197 [==============================] - 8s 7ms/step - loss: 0.0019\n",
      "Epoch 54/100\n",
      "1197/1197 [==============================] - 8s 7ms/step - loss: 0.0018\n",
      "Epoch 55/100\n",
      "1197/1197 [==============================] - 8s 7ms/step - loss: 0.0019\n",
      "Epoch 56/100\n",
      "1197/1197 [==============================] - 8s 7ms/step - loss: 0.0018\n",
      "Epoch 57/100\n",
      "1197/1197 [==============================] - 8s 7ms/step - loss: 0.0017\n",
      "Epoch 58/100\n",
      "1197/1197 [==============================] - 8s 7ms/step - loss: 0.0017\n",
      "Epoch 59/100\n",
      "1197/1197 [==============================] - 8s 6ms/step - loss: 0.0019\n",
      "Epoch 60/100\n",
      "1197/1197 [==============================] - 9s 7ms/step - loss: 0.0016\n",
      "Epoch 61/100\n",
      "1197/1197 [==============================] - 8s 7ms/step - loss: 0.0017\n",
      "Epoch 62/100\n",
      "1197/1197 [==============================] - 8s 6ms/step - loss: 0.0017\n",
      "Epoch 63/100\n",
      "1197/1197 [==============================] - 8s 7ms/step - loss: 0.0016\n",
      "Epoch 64/100\n",
      "1197/1197 [==============================] - 9s 7ms/step - loss: 0.0019\n",
      "Epoch 65/100\n",
      "1197/1197 [==============================] - 8s 7ms/step - loss: 0.0016\n",
      "Epoch 66/100\n",
      "1197/1197 [==============================] - 8s 7ms/step - loss: 0.0017\n",
      "Epoch 67/100\n",
      "1197/1197 [==============================] - 11s 9ms/step - loss: 0.0016\n",
      "Epoch 68/100\n",
      "1197/1197 [==============================] - 8s 7ms/step - loss: 0.0014\n",
      "Epoch 69/100\n",
      "1197/1197 [==============================] - 8s 7ms/step - loss: 0.0015\n",
      "Epoch 70/100\n",
      "1197/1197 [==============================] - 8s 7ms/step - loss: 0.0016\n",
      "Epoch 71/100\n",
      "1197/1197 [==============================] - 8s 6ms/step - loss: 0.0015\n",
      "Epoch 72/100\n",
      "1197/1197 [==============================] - 8s 7ms/step - loss: 0.0017\n",
      "Epoch 73/100\n",
      "1197/1197 [==============================] - 8s 7ms/step - loss: 0.0014\n",
      "Epoch 74/100\n",
      "1197/1197 [==============================] - 8s 7ms/step - loss: 0.0015\n",
      "Epoch 75/100\n",
      "1197/1197 [==============================] - 8s 7ms/step - loss: 0.0014\n",
      "Epoch 76/100\n",
      "1197/1197 [==============================] - 8s 7ms/step - loss: 0.0016\n",
      "Epoch 77/100\n",
      "1197/1197 [==============================] - 8s 6ms/step - loss: 0.0015\n",
      "Epoch 78/100\n",
      "1197/1197 [==============================] - 8s 7ms/step - loss: 0.0014\n",
      "Epoch 79/100\n",
      "1197/1197 [==============================] - 8s 7ms/step - loss: 0.0015\n",
      "Epoch 80/100\n",
      "1197/1197 [==============================] - 8s 7ms/step - loss: 0.0015\n",
      "Epoch 81/100\n",
      "1197/1197 [==============================] - 8s 7ms/step - loss: 0.0015\n",
      "Epoch 82/100\n",
      "1197/1197 [==============================] - 8s 7ms/step - loss: 0.0015\n",
      "Epoch 83/100\n",
      "1197/1197 [==============================] - 8s 7ms/step - loss: 0.0015\n",
      "Epoch 84/100\n",
      "1197/1197 [==============================] - 8s 7ms/step - loss: 0.0014\n",
      "Epoch 85/100\n",
      "1197/1197 [==============================] - 8s 7ms/step - loss: 0.0014\n",
      "Epoch 86/100\n",
      "1197/1197 [==============================] - 8s 7ms/step - loss: 0.0014\n",
      "Epoch 87/100\n",
      "1197/1197 [==============================] - 8s 6ms/step - loss: 0.0014\n",
      "Epoch 88/100\n",
      "1197/1197 [==============================] - 8s 7ms/step - loss: 0.0013\n",
      "Epoch 89/100\n",
      "1197/1197 [==============================] - 8s 7ms/step - loss: 0.0012\n",
      "Epoch 90/100\n",
      "1197/1197 [==============================] - 8s 6ms/step - loss: 0.0013\n",
      "Epoch 91/100\n",
      "1197/1197 [==============================] - 8s 7ms/step - loss: 0.0013\n",
      "Epoch 92/100\n",
      "1197/1197 [==============================] - 8s 7ms/step - loss: 0.0013\n",
      "Epoch 93/100\n",
      "1197/1197 [==============================] - 8s 7ms/step - loss: 0.0013\n",
      "Epoch 94/100\n",
      "1197/1197 [==============================] - 8s 7ms/step - loss: 0.0014\n",
      "Epoch 95/100\n",
      "1197/1197 [==============================] - 8s 6ms/step - loss: 0.0013\n",
      "Epoch 96/100\n",
      "1197/1197 [==============================] - 8s 6ms/step - loss: 0.0012\n",
      "Epoch 97/100\n",
      "1197/1197 [==============================] - 8s 6ms/step - loss: 0.0015\n",
      "Epoch 98/100\n",
      "1197/1197 [==============================] - 8s 7ms/step - loss: 0.0013A: \n",
      "Epoch 99/100\n",
      "1197/1197 [==============================] - 9s 8ms/step - loss: 0.0012\n",
      "Epoch 100/100\n",
      "1197/1197 [==============================] - 12s 10ms/step - loss: 0.0013\n"
     ]
    },
    {
     "data": {
      "text/plain": [
       "<keras.callbacks.History at 0x264de34b748>"
      ]
     },
     "execution_count": 27,
     "metadata": {},
     "output_type": "execute_result"
    }
   ],
   "source": [
    "regressor.fit(df_train,y_train,epochs=100,batch_size=32)"
   ]
  },
  {
   "cell_type": "code",
   "execution_count": 28,
   "metadata": {},
   "outputs": [],
   "source": [
    "predicted_values=regressor.predict(df_test)\n",
    "predicted_values=scaler.inverse_transform(predicted_values)"
   ]
  },
  {
   "cell_type": "code",
   "execution_count": 29,
   "metadata": {},
   "outputs": [
    {
     "data": {
      "text/plain": [
       "<matplotlib.legend.Legend at 0x264ed1384e0>"
      ]
     },
     "execution_count": 29,
     "metadata": {},
     "output_type": "execute_result"
    },
    {
     "data": {
      "image/png": "[encoded data removed]",
      "text/plain": [
       "<Figure size 432x288 with 1 Axes>"
      ]
     },
     "metadata": {
      "needs_background": "light"
     },
     "output_type": "display_data"
    }
   ],
   "source": [
    "plt.figure()\n",
    "plt.plot(X_test.values,color='green',label='Acutal')\n",
    "plt.plot(predicted_values,color='blue',label='Predicted')\n",
    "plt.xticks(ticks=range(len(X_test)),labels=X_test.index,rotation=90)\n",
    "plt.grid()\n",
    "plt.legend()\n",
    "\n"
   ]
  },
  {
   "cell_type": "markdown",
   "metadata": {},
   "source": []
  },
  {
   "cell_type": "markdown",
   "metadata": {},
   "source": [
    "#### Stock_Model_Data"
   ]
  },
  {
   "cell_type": "code",
   "execution_count": 2,
   "metadata": {},
   "outputs": [],
   "source": [
    "df=pd.read_csv('stock_model_data_v3.0.csv')"
   ]
  },
  {
   "cell_type": "code",
   "execution_count": 4,
   "metadata": {},
   "outputs": [],
   "source": [
    "for i in df.columns:\n",
    "    if(any(df[i].isna())):\n",
    "        print(i)"
   ]
  },
  {
   "cell_type": "code",
   "execution_count": 3,
   "metadata": {},
   "outputs": [
    {
     "data": {
      "text/plain": [
       "(1375085, 49)"
      ]
     },
     "execution_count": 3,
     "metadata": {},
     "output_type": "execute_result"
    }
   ],
   "source": [
    "df.shape"
   ]
  },
  {
   "cell_type": "code",
   "execution_count": 5,
   "metadata": {},
   "outputs": [],
   "source": [
    "df=df.iloc[:50000,:]"
   ]
  },
  {
   "cell_type": "code",
   "execution_count": 6,
   "metadata": {
    "scrolled": true
   },
   "outputs": [
    {
     "data": {
      "text/plain": [
       "(50000, 49)"
      ]
     },
     "execution_count": 6,
     "metadata": {},
     "output_type": "execute_result"
    }
   ],
   "source": [
    "df.shape"
   ]
  },
  {
   "cell_type": "code",
   "execution_count": 7,
   "metadata": {},
   "outputs": [
    {
     "data": {
      "text/html": [
       "<div>\n",
       "<style scoped>\n",
       "    .dataframe tbody tr th:only-of-type {\n",
       "        vertical-align: middle;\n",
       "    }\n",
       "\n",
       "    .dataframe tbody tr th {\n",
       "        vertical-align: top;\n",
       "    }\n",
       "\n",
       "    .dataframe thead th {\n",
       "        text-align: right;\n",
       "    }\n",
       "</style>\n",
       "<table border=\"1\" class=\"dataframe\">\n",
       "  <thead>\n",
       "    <tr style=\"text-align: right;\">\n",
       "      <th></th>\n",
       "      <th>Symbols</th>\n",
       "      <th>Date</th>\n",
       "      <th>bin_gain</th>\n",
       "      <th>bin_gain_1%</th>\n",
       "      <th>bin_gain_2%</th>\n",
       "      <th>SMA_PCH5</th>\n",
       "      <th>SMA_PCH15</th>\n",
       "      <th>SMA_PCH50</th>\n",
       "      <th>EMA_PCH5</th>\n",
       "      <th>EMA_PCH15</th>\n",
       "      <th>...</th>\n",
       "      <th>MOM_BIN50</th>\n",
       "      <th>macd_BIN</th>\n",
       "      <th>Beta_DOW</th>\n",
       "      <th>Beta_NDQ</th>\n",
       "      <th>Beta_NKK</th>\n",
       "      <th>Beta_NFTY</th>\n",
       "      <th>Beta_EURINR</th>\n",
       "      <th>Beta_GBPINR</th>\n",
       "      <th>Beta_USDINR</th>\n",
       "      <th>Beta_JPYINR</th>\n",
       "    </tr>\n",
       "  </thead>\n",
       "  <tbody>\n",
       "    <tr>\n",
       "      <th>0</th>\n",
       "      <td>20MICRONS.NS</td>\n",
       "      <td>2015-03-17</td>\n",
       "      <td>0</td>\n",
       "      <td>0</td>\n",
       "      <td>0</td>\n",
       "      <td>-0.028324</td>\n",
       "      <td>-0.619374</td>\n",
       "      <td>-5.776217</td>\n",
       "      <td>-0.128374</td>\n",
       "      <td>-1.196622</td>\n",
       "      <td>...</td>\n",
       "      <td>1</td>\n",
       "      <td>0</td>\n",
       "      <td>-0.027104</td>\n",
       "      <td>-0.062579</td>\n",
       "      <td>-0.016417</td>\n",
       "      <td>0.162006</td>\n",
       "      <td>-0.296453</td>\n",
       "      <td>-0.168612</td>\n",
       "      <td>0.020377</td>\n",
       "      <td>-0.017248</td>\n",
       "    </tr>\n",
       "    <tr>\n",
       "      <th>1</th>\n",
       "      <td>20MICRONS.NS</td>\n",
       "      <td>2015-03-18</td>\n",
       "      <td>1</td>\n",
       "      <td>0</td>\n",
       "      <td>0</td>\n",
       "      <td>-0.594737</td>\n",
       "      <td>-0.959373</td>\n",
       "      <td>-6.527129</td>\n",
       "      <td>-0.463886</td>\n",
       "      <td>-1.540035</td>\n",
       "      <td>...</td>\n",
       "      <td>1</td>\n",
       "      <td>0</td>\n",
       "      <td>-0.063537</td>\n",
       "      <td>-0.115363</td>\n",
       "      <td>0.089180</td>\n",
       "      <td>0.357055</td>\n",
       "      <td>-0.329759</td>\n",
       "      <td>-0.249793</td>\n",
       "      <td>0.038237</td>\n",
       "      <td>-0.079502</td>\n",
       "    </tr>\n",
       "    <tr>\n",
       "      <th>2</th>\n",
       "      <td>20MICRONS.NS</td>\n",
       "      <td>2015-03-19</td>\n",
       "      <td>0</td>\n",
       "      <td>0</td>\n",
       "      <td>0</td>\n",
       "      <td>-0.141833</td>\n",
       "      <td>-0.593041</td>\n",
       "      <td>-6.477486</td>\n",
       "      <td>-0.120266</td>\n",
       "      <td>-1.103674</td>\n",
       "      <td>...</td>\n",
       "      <td>1</td>\n",
       "      <td>1</td>\n",
       "      <td>-0.084301</td>\n",
       "      <td>-0.110805</td>\n",
       "      <td>0.062925</td>\n",
       "      <td>0.333051</td>\n",
       "      <td>-0.227927</td>\n",
       "      <td>-0.189294</td>\n",
       "      <td>0.040711</td>\n",
       "      <td>-0.038782</td>\n",
       "    </tr>\n",
       "    <tr>\n",
       "      <th>3</th>\n",
       "      <td>20MICRONS.NS</td>\n",
       "      <td>2015-03-20</td>\n",
       "      <td>0</td>\n",
       "      <td>0</td>\n",
       "      <td>0</td>\n",
       "      <td>-0.284095</td>\n",
       "      <td>-0.847463</td>\n",
       "      <td>-6.982913</td>\n",
       "      <td>-0.269718</td>\n",
       "      <td>-1.213539</td>\n",
       "      <td>...</td>\n",
       "      <td>1</td>\n",
       "      <td>1</td>\n",
       "      <td>-0.036456</td>\n",
       "      <td>-0.083404</td>\n",
       "      <td>0.068255</td>\n",
       "      <td>0.321459</td>\n",
       "      <td>-0.219496</td>\n",
       "      <td>-0.173907</td>\n",
       "      <td>0.054477</td>\n",
       "      <td>-0.040057</td>\n",
       "    </tr>\n",
       "    <tr>\n",
       "      <th>4</th>\n",
       "      <td>20MICRONS.NS</td>\n",
       "      <td>2015-03-23</td>\n",
       "      <td>1</td>\n",
       "      <td>0</td>\n",
       "      <td>0</td>\n",
       "      <td>-1.541101</td>\n",
       "      <td>-2.293976</td>\n",
       "      <td>-8.773608</td>\n",
       "      <td>-1.325062</td>\n",
       "      <td>-2.548441</td>\n",
       "      <td>...</td>\n",
       "      <td>1</td>\n",
       "      <td>0</td>\n",
       "      <td>-0.018645</td>\n",
       "      <td>-0.037138</td>\n",
       "      <td>-0.025653</td>\n",
       "      <td>0.333212</td>\n",
       "      <td>-0.380410</td>\n",
       "      <td>-0.298181</td>\n",
       "      <td>0.070855</td>\n",
       "      <td>-0.092486</td>\n",
       "    </tr>\n",
       "  </tbody>\n",
       "</table>\n",
       "<p>5 rows × 49 columns</p>\n",
       "</div>"
      ],
      "text/plain": [
       "        Symbols        Date  bin_gain  bin_gain_1%  bin_gain_2%  SMA_PCH5  \\\n",
       "0  20MICRONS.NS  2015-03-17         0            0            0 -0.028324   \n",
       "1  20MICRONS.NS  2015-03-18         1            0            0 -0.594737   \n",
       "2  20MICRONS.NS  2015-03-19         0            0            0 -0.141833   \n",
       "3  20MICRONS.NS  2015-03-20         0            0            0 -0.284095   \n",
       "4  20MICRONS.NS  2015-03-23         1            0            0 -1.541101   \n",
       "\n",
       "   SMA_PCH15  SMA_PCH50  EMA_PCH5  EMA_PCH15  ...  MOM_BIN50  macd_BIN  \\\n",
       "0  -0.619374  -5.776217 -0.128374  -1.196622  ...          1         0   \n",
       "1  -0.959373  -6.527129 -0.463886  -1.540035  ...          1         0   \n",
       "2  -0.593041  -6.477486 -0.120266  -1.103674  ...          1         1   \n",
       "3  -0.847463  -6.982913 -0.269718  -1.213539  ...          1         1   \n",
       "4  -2.293976  -8.773608 -1.325062  -2.548441  ...          1         0   \n",
       "\n",
       "   Beta_DOW  Beta_NDQ  Beta_NKK  Beta_NFTY  Beta_EURINR  Beta_GBPINR  \\\n",
       "0 -0.027104 -0.062579 -0.016417   0.162006    -0.296453    -0.168612   \n",
       "1 -0.063537 -0.115363  0.089180   0.357055    -0.329759    -0.249793   \n",
       "2 -0.084301 -0.110805  0.062925   0.333051    -0.227927    -0.189294   \n",
       "3 -0.036456 -0.083404  0.068255   0.321459    -0.219496    -0.173907   \n",
       "4 -0.018645 -0.037138 -0.025653   0.333212    -0.380410    -0.298181   \n",
       "\n",
       "   Beta_USDINR  Beta_JPYINR  \n",
       "0     0.020377    -0.017248  \n",
       "1     0.038237    -0.079502  \n",
       "2     0.040711    -0.038782  \n",
       "3     0.054477    -0.040057  \n",
       "4     0.070855    -0.092486  \n",
       "\n",
       "[5 rows x 49 columns]"
      ]
     },
     "execution_count": 7,
     "metadata": {},
     "output_type": "execute_result"
    }
   ],
   "source": [
    "df.head()"
   ]
  },
  {
   "cell_type": "code",
   "execution_count": 5,
   "metadata": {},
   "outputs": [
    {
     "data": {
      "text/plain": [
       "Index(['Symbols', 'Date', 'bin_gain', 'bin_gain_1%', 'bin_gain_2%', 'SMA_PCH5',\n",
       "       'SMA_PCH15', 'SMA_PCH50', 'EMA_PCH5', 'EMA_PCH15', 'EMA_PCH50', 'ROC5',\n",
       "       'ROC15', 'ROC50', 'MOM_PCH5', 'MOM_PCH15', 'MOM_PCH50', 'macdhist',\n",
       "       'RSI', 'StochK', 'StochD', 'CMO', 'AroonUp', 'AroonDown', 'ChaikinAD',\n",
       "       'MFI', 'WillR', 'ULTOS', 'MA_BIN5', 'MA_BIN15', 'MA_BIN50', 'EMA_BIN5',\n",
       "       'EMA_BIN15', 'EMA_BIN50', 'ROC_BIN5', 'ROC_BIN15', 'ROC_BIN50',\n",
       "       'MOM_BIN5', 'MOM_BIN15', 'MOM_BIN50', 'macd_BIN', 'Beta_DOW',\n",
       "       'Beta_NDQ', 'Beta_NKK', 'Beta_NFTY', 'Beta_EURINR', 'Beta_GBPINR',\n",
       "       'Beta_USDINR', 'Beta_JPYINR'],\n",
       "      dtype='object')"
      ]
     },
     "execution_count": 5,
     "metadata": {},
     "output_type": "execute_result"
    }
   ],
   "source": [
    "df.columns"
   ]
  },
  {
   "cell_type": "code",
   "execution_count": 8,
   "metadata": {},
   "outputs": [
    {
     "data": {
      "text/plain": [
       "DatetimeIndex(['2015-03-17', '2015-03-18', '2015-03-19', '2015-03-20',\n",
       "               '2015-03-23', '2015-03-24', '2015-03-25', '2015-03-26',\n",
       "               '2015-03-27', '2015-03-30',\n",
       "               ...\n",
       "               '2016-01-04', '2016-01-05', '2016-01-06', '2016-01-07',\n",
       "               '2016-01-08', '2016-01-11', '2016-01-12', '2016-01-13',\n",
       "               '2016-01-14', '2016-01-15'],\n",
       "              dtype='datetime64[ns]', name='Date', length=50000, freq=None)"
      ]
     },
     "execution_count": 8,
     "metadata": {},
     "output_type": "execute_result"
    }
   ],
   "source": [
    "df.set_index(\"Date\",inplace=True)\n",
    "df.index=pd.to_datetime(df.index)\n",
    "df.index"
   ]
  },
  {
   "cell_type": "code",
   "execution_count": 10,
   "metadata": {},
   "outputs": [
    {
     "data": {
      "text/plain": [
       "APLLTD.NS        1214\n",
       "VSTTILLERS.NS    1214\n",
       "HERCULES.NS      1214\n",
       "AARTIDRUGS.NS    1214\n",
       "NATHBIOGEN.NS    1214\n",
       "                 ... \n",
       "KRISHANA.NS         6\n",
       "BAJAJHIND.NS        6\n",
       "CSBBANK.NS          5\n",
       "AIONJSW.NS          4\n",
       "UNITY.NS            3\n",
       "Name: Symbols, Length: 1464, dtype: int64"
      ]
     },
     "execution_count": 10,
     "metadata": {},
     "output_type": "execute_result"
    }
   ],
   "source": [
    "df['Symbols'].value_counts()"
   ]
  },
  {
   "cell_type": "code",
   "execution_count": 9,
   "metadata": {},
   "outputs": [
    {
     "data": {
      "text/html": [
       "<div>\n",
       "<style scoped>\n",
       "    .dataframe tbody tr th:only-of-type {\n",
       "        vertical-align: middle;\n",
       "    }\n",
       "\n",
       "    .dataframe tbody tr th {\n",
       "        vertical-align: top;\n",
       "    }\n",
       "\n",
       "    .dataframe thead th {\n",
       "        text-align: right;\n",
       "    }\n",
       "</style>\n",
       "<table border=\"1\" class=\"dataframe\">\n",
       "  <thead>\n",
       "    <tr style=\"text-align: right;\">\n",
       "      <th></th>\n",
       "    </tr>\n",
       "  </thead>\n",
       "  <tbody>\n",
       "  </tbody>\n",
       "</table>\n",
       "</div>"
      ],
      "text/plain": [
       "Empty DataFrame\n",
       "Columns: []\n",
       "Index: []"
      ]
     },
     "execution_count": 9,
     "metadata": {},
     "output_type": "execute_result"
    }
   ],
   "source": [
    "X_train=[]\n",
    "y_train=[]\n",
    "def print_i(df):\n",
    "    if(len(df)<110):\n",
    "        return\n",
    "    for i in range(50,len(df)-50):\n",
    "        X_train.append(df.iloc[i-50:i,1:].values)\n",
    "        y_train.append(df.iloc[i,3])\n",
    "    \n",
    "df.groupby([\"Symbols\"]).apply(print_i)"
   ]
  },
  {
   "cell_type": "code",
   "execution_count": null,
   "metadata": {},
   "outputs": [],
   "source": [
    "X_train"
   ]
  },
  {
   "cell_type": "code",
   "execution_count": 10,
   "metadata": {},
   "outputs": [
    {
     "data": {
      "text/html": [
       "<div>\n",
       "<style scoped>\n",
       "    .dataframe tbody tr th:only-of-type {\n",
       "        vertical-align: middle;\n",
       "    }\n",
       "\n",
       "    .dataframe tbody tr th {\n",
       "        vertical-align: top;\n",
       "    }\n",
       "\n",
       "    .dataframe thead th {\n",
       "        text-align: right;\n",
       "    }\n",
       "</style>\n",
       "<table border=\"1\" class=\"dataframe\">\n",
       "  <thead>\n",
       "    <tr style=\"text-align: right;\">\n",
       "      <th></th>\n",
       "    </tr>\n",
       "  </thead>\n",
       "  <tbody>\n",
       "  </tbody>\n",
       "</table>\n",
       "</div>"
      ],
      "text/plain": [
       "Empty DataFrame\n",
       "Columns: []\n",
       "Index: []"
      ]
     },
     "execution_count": 10,
     "metadata": {},
     "output_type": "execute_result"
    }
   ],
   "source": [
    "X_test=[]\n",
    "y_test=[]\n",
    "def prepare_test(df):\n",
    "    if(len(df)<110):\n",
    "        return\n",
    "    for i in range(len(df)-50,len(df)):\n",
    "        X_test.append(df.iloc[i-50:i,1:].values)\n",
    "        y_test.append(df.iloc[i,3])\n",
    "df.groupby([\"Symbols\"]).apply(prepare_test)"
   ]
  },
  {
   "cell_type": "code",
   "execution_count": 11,
   "metadata": {
    "scrolled": false
   },
   "outputs": [],
   "source": [
    "X_train,y_train=np.array(X_train),np.array(y_train)\n",
    "X_test,y_test=np.array(X_test),np.array(y_test)"
   ]
  },
  {
   "cell_type": "code",
   "execution_count": 39,
   "metadata": {},
   "outputs": [
    {
     "data": {
      "text/plain": [
       "(44393, 50, 47)"
      ]
     },
     "execution_count": 39,
     "metadata": {},
     "output_type": "execute_result"
    }
   ],
   "source": [
    "X_train.shape"
   ]
  },
  {
   "cell_type": "code",
   "execution_count": 13,
   "metadata": {},
   "outputs": [
    {
     "data": {
      "text/plain": [
       "(2750, 50, 47)"
      ]
     },
     "execution_count": 13,
     "metadata": {},
     "output_type": "execute_result"
    }
   ],
   "source": [
    "X_test.shape"
   ]
  },
  {
   "cell_type": "code",
   "execution_count": 26,
   "metadata": {},
   "outputs": [
    {
     "data": {
      "text/plain": [
       "array([[1, 2, 3],\n",
       "       [4, 5, 6]])"
      ]
     },
     "execution_count": 26,
     "metadata": {},
     "output_type": "execute_result"
    }
   ],
   "source": [
    "a=np.array([[1,2,3],[4,5,6]])\n",
    "a.reshape(1,-1).reshape(2,3)"
   ]
  },
  {
   "cell_type": "code",
   "execution_count": null,
   "metadata": {},
   "outputs": [],
   "source": []
  },
  {
   "cell_type": "code",
   "execution_count": null,
   "metadata": {},
   "outputs": [],
   "source": []
  },
  {
   "cell_type": "code",
   "execution_count": null,
   "metadata": {},
   "outputs": [],
   "source": []
  },
  {
   "cell_type": "code",
   "execution_count": 14,
   "metadata": {},
   "outputs": [
    {
     "name": "stderr",
     "output_type": "stream",
     "text": [
      "Using TensorFlow backend.\n"
     ]
    }
   ],
   "source": [
    "from keras.models import Sequential\n",
    "from keras.layers import Dense\n",
    "from keras.layers import LSTM\n",
    "from keras.layers import Dropout"
   ]
  },
  {
   "cell_type": "code",
   "execution_count": 15,
   "metadata": {},
   "outputs": [
    {
     "name": "stdout",
     "output_type": "stream",
     "text": [
      "WARNING:tensorflow:From C:\\Anaconda3\\lib\\site-packages\\tensorflow\\python\\framework\\op_def_library.py:263: colocate_with (from tensorflow.python.framework.ops) is deprecated and will be removed in a future version.\n",
      "Instructions for updating:\n",
      "Colocations handled automatically by placer.\n",
      "WARNING:tensorflow:From C:\\Anaconda3\\lib\\site-packages\\keras\\backend\\tensorflow_backend.py:1247: calling reduce_sum_v1 (from tensorflow.python.ops.math_ops) with keep_dims is deprecated and will be removed in a future version.\n",
      "Instructions for updating:\n",
      "keep_dims is deprecated, use keepdims instead\n",
      "WARNING:tensorflow:From C:\\Anaconda3\\lib\\site-packages\\keras\\backend\\tensorflow_backend.py:3019: calling dropout (from tensorflow.python.ops.nn_ops) with keep_prob is deprecated and will be removed in a future version.\n",
      "Instructions for updating:\n",
      "Please use `rate` instead of `keep_prob`. Rate should be set to `rate = 1 - keep_prob`.\n"
     ]
    }
   ],
   "source": [
    "model=Sequential()\n",
    "model.add(LSTM(units=50,return_sequences=True,input_shape=(X_train.shape[1],47)))\n",
    "model.add(Dropout(0.2))\n",
    "\n",
    "model.add(LSTM(units=50,return_sequences=True))\n",
    "model.add(Dropout(0.2))\n",
    "\n",
    "model.add(LSTM(units=50,return_sequences=True))\n",
    "model.add(Dropout(0.2))\n",
    "\n",
    "model.add(LSTM(units=50))\n",
    "model.add(Dropout(0.2))\n",
    "\n",
    "\n",
    "model.add(Dense(units=1,activation='sigmoid'))\n",
    "model.compile(loss='binary_crossentropy',\n",
    "                  optimizer='adam',\n",
    "                  metrics=['accuracy'])"
   ]
  },
  {
   "cell_type": "code",
   "execution_count": 16,
   "metadata": {},
   "outputs": [
    {
     "name": "stdout",
     "output_type": "stream",
     "text": [
      "WARNING:tensorflow:From C:\\Anaconda3\\lib\\site-packages\\tensorflow\\python\\ops\\math_ops.py:3066: to_int32 (from tensorflow.python.ops.math_ops) is deprecated and will be removed in a future version.\n",
      "Instructions for updating:\n",
      "Use tf.cast instead.\n"
     ]
    },
    {
     "name": "stderr",
     "output_type": "stream",
     "text": [
      "C:\\Anaconda3\\lib\\site-packages\\keras\\models.py:939: UserWarning: The `nb_epoch` argument in `fit` has been renamed `epochs`.\n",
      "  warnings.warn('The `nb_epoch` argument in `fit` '\n"
     ]
    },
    {
     "name": "stdout",
     "output_type": "stream",
     "text": [
      "Epoch 1/20\n",
      "44393/44393 [==============================] - 111s 2ms/step - loss: 0.4766 - acc: 0.8225\n",
      "Epoch 2/20\n",
      "44393/44393 [==============================] - 103s 2ms/step - loss: 0.4555 - acc: 0.8314\n",
      "Epoch 3/20\n",
      "44393/44393 [==============================] - 109s 2ms/step - loss: 0.4555 - acc: 0.8314\n",
      "Epoch 4/20\n",
      "44393/44393 [==============================] - 101s 2ms/step - loss: 0.4548 - acc: 0.8314\n",
      "Epoch 5/20\n",
      "44393/44393 [==============================] - 92s 2ms/step - loss: 0.4543 - acc: 0.8314\n",
      "Epoch 6/20\n",
      "44393/44393 [==============================] - 91s 2ms/step - loss: 0.4544 - acc: 0.8314\n",
      "Epoch 7/20\n",
      "44393/44393 [==============================] - 97s 2ms/step - loss: 0.4541 - acc: 0.8315\n",
      "Epoch 8/20\n",
      "44393/44393 [==============================] - 99s 2ms/step - loss: 0.4535 - acc: 0.8315\n",
      "Epoch 9/20\n",
      "44393/44393 [==============================] - 130s 3ms/step - loss: 0.4543 - acc: 0.8316\n",
      "Epoch 10/20\n",
      "44393/44393 [==============================] - 104s 2ms/step - loss: 0.4537 - acc: 0.8317\n",
      "Epoch 12/20\n",
      "44393/44393 [==============================] - 142s 3ms/step - loss: 0.4528 - acc: 0.8316\n",
      "Epoch 14/20\n",
      "44393/44393 [==============================] - 183s 4ms/step - loss: 0.4525 - acc: 0.8316\n",
      "Epoch 16/20\n",
      "44393/44393 [==============================] - 174s 4ms/step - loss: 0.4528 - acc: 0.8316\n",
      "Epoch 17/20\n",
      "44393/44393 [==============================] - 145s 3ms/step - loss: 0.4521 - acc: 0.8316\n",
      "Epoch 18/20\n",
      "44393/44393 [==============================] - 148s 3ms/step - loss: 0.4522 - acc: 0.8315\n",
      "Epoch 19/20\n",
      "44393/44393 [==============================] - 151s 3ms/step - loss: 0.4523 - acc: 0.8317\n",
      "Epoch 20/20\n",
      "44393/44393 [==============================] - 116s 3ms/step - loss: 0.4515 - acc: 0.8316\n"
     ]
    },
    {
     "data": {
      "text/plain": [
       "<keras.callbacks.History at 0x19c56a53f98>"
      ]
     },
     "execution_count": 16,
     "metadata": {},
     "output_type": "execute_result"
    }
   ],
   "source": [
    "model.fit(X_train, y_train, batch_size=1000, nb_epoch=20)"
   ]
  },
  {
   "cell_type": "code",
   "execution_count": 17,
   "metadata": {},
   "outputs": [
    {
     "name": "stdout",
     "output_type": "stream",
     "text": [
      "2750/2750 [==============================] - 55s 20ms/step\n"
     ]
    },
    {
     "data": {
      "text/plain": [
       "[0.4795377104959705, 0.8185454545454546]"
      ]
     },
     "execution_count": 17,
     "metadata": {},
     "output_type": "execute_result"
    }
   ],
   "source": [
    "model.evaluate(X_test,y_test,batch_size=1)"
   ]
  },
  {
   "cell_type": "code",
   "execution_count": 18,
   "metadata": {},
   "outputs": [],
   "source": [
    "model=Sequential()\n",
    "model.add(LSTM(units=100,return_sequences=True,input_shape=(X_train.shape[1],47)))\n",
    "model.add(Dropout(0.2))\n",
    "\n",
    "model.add(LSTM(units=100,return_sequences=True))\n",
    "model.add(Dropout(0.2))\n",
    "\n",
    "model.add(LSTM(units=100,return_sequences=True))\n",
    "model.add(Dropout(0.2))\n",
    "\n",
    "model.add(LSTM(units=100))\n",
    "model.add(Dropout(0.2))\n",
    "\n",
    "\n",
    "model.add(Dense(units=1,activation='sigmoid'))\n",
    "model.compile(loss='binary_crossentropy',\n",
    "                  optimizer='rmsprop',\n",
    "                  metrics=['accuracy'])"
   ]
  },
  {
   "cell_type": "code",
   "execution_count": 19,
   "metadata": {},
   "outputs": [
    {
     "name": "stdout",
     "output_type": "stream",
     "text": [
      "Epoch 1/20\n",
      "44393/44393 [==============================] - 260s 6ms/step - loss: 0.4653 - acc: 0.8310\n",
      "Epoch 2/20\n",
      "44393/44393 [==============================] - 153s 3ms/step - loss: 0.4566 - acc: 0.8314\n",
      "Epoch 3/20\n",
      "44393/44393 [==============================] - 118s 3ms/step - loss: 0.4552 - acc: 0.8313\n",
      "Epoch 4/20\n",
      "44393/44393 [==============================] - 122s 3ms/step - loss: 0.4547 - acc: 0.8315\n",
      "Epoch 5/20\n",
      "44393/44393 [==============================] - 127s 3ms/step - loss: 0.4551 - acc: 0.8316\n",
      "Epoch 6/20\n",
      "44393/44393 [==============================] - 147s 3ms/step - loss: 0.4545 - acc: 0.8315\n",
      "Epoch 7/20\n",
      "44393/44393 [==============================] - 90s 2ms/step - loss: 0.4543 - acc: 0.8315\n",
      "Epoch 9/20\n",
      "44393/44393 [==============================] - 90s 2ms/step - loss: 0.4538 - acc: 0.8316\n",
      "Epoch 10/20\n",
      "44393/44393 [==============================] - 90s 2ms/step - loss: 0.4536 - acc: 0.8315\n",
      "Epoch 11/20\n",
      "44393/44393 [==============================] - 89s 2ms/step - loss: 0.4535 - acc: 0.8315\n",
      "Epoch 12/20\n",
      "44393/44393 [==============================] - 90s 2ms/step - loss: 0.4533 - acc: 0.8316\n",
      "Epoch 13/20\n",
      "44393/44393 [==============================] - 89s 2ms/step - loss: 0.4525 - acc: 0.8315\n",
      "Epoch 14/20\n",
      "44393/44393 [==============================] - 89s 2ms/step - loss: 0.4524 - acc: 0.8316\n",
      "Epoch 15/20\n",
      "44393/44393 [==============================] - 89s 2ms/step - loss: 0.4520 - acc: 0.8316\n",
      "Epoch 16/20\n",
      "44393/44393 [==============================] - 89s 2ms/step - loss: 0.4521 - acc: 0.8316\n",
      "Epoch 17/20\n",
      "44393/44393 [==============================] - 90s 2ms/step - loss: 0.4511 - acc: 0.8318\n",
      "Epoch 18/20\n",
      "44393/44393 [==============================] - 90s 2ms/step - loss: 0.4518 - acc: 0.8317\n",
      "Epoch 19/20\n",
      "44393/44393 [==============================] - 89s 2ms/step - loss: 0.4512 - acc: 0.8318\n",
      "Epoch 20/20\n",
      "44393/44393 [==============================] - 90s 2ms/step - loss: 0.4511 - acc: 0.8317\n"
     ]
    },
    {
     "data": {
      "text/plain": [
       "<keras.callbacks.History at 0x19c424617b8>"
      ]
     },
     "execution_count": 19,
     "metadata": {},
     "output_type": "execute_result"
    }
   ],
   "source": [
    "model.fit(X_train, y_train, batch_size=1000, nb_epoch=20)"
   ]
  },
  {
   "cell_type": "code",
   "execution_count": null,
   "metadata": {},
   "outputs": [],
   "source": []
  },
  {
   "cell_type": "markdown",
   "metadata": {},
   "source": [
    "#### Random Forest"
   ]
  },
  {
   "cell_type": "code",
   "execution_count": 137,
   "metadata": {},
   "outputs": [
    {
     "data": {
      "text/plain": [
       "DatetimeIndex(['2015-03-17', '2015-03-17', '2015-03-17', '2015-03-17',\n",
       "               '2015-03-17', '2015-03-17', '2015-03-17', '2015-03-17',\n",
       "               '2015-03-17', '2015-03-17',\n",
       "               ...\n",
       "               '2020-02-18', '2020-02-18', '2020-02-18', '2020-02-18',\n",
       "               '2020-02-18', '2020-02-18', '2020-02-18', '2020-02-18',\n",
       "               '2020-02-18', '2020-02-18'],\n",
       "              dtype='datetime64[ns]', name='Date', length=1102617, freq=None)"
      ]
     },
     "execution_count": 137,
     "metadata": {},
     "output_type": "execute_result"
    }
   ],
   "source": [
    "df_train.index"
   ]
  },
  {
   "cell_type": "code",
   "execution_count": 140,
   "metadata": {},
   "outputs": [
    {
     "data": {
      "text/html": [
       "<div>\n",
       "<style scoped>\n",
       "    .dataframe tbody tr th:only-of-type {\n",
       "        vertical-align: middle;\n",
       "    }\n",
       "\n",
       "    .dataframe tbody tr th {\n",
       "        vertical-align: top;\n",
       "    }\n",
       "\n",
       "    .dataframe thead th {\n",
       "        text-align: right;\n",
       "    }\n",
       "</style>\n",
       "<table border=\"1\" class=\"dataframe\">\n",
       "  <thead>\n",
       "    <tr style=\"text-align: right;\">\n",
       "      <th></th>\n",
       "      <th>bin_gain</th>\n",
       "      <th>bin_gain_1%</th>\n",
       "      <th>bin_gain_2%</th>\n",
       "      <th>SMA_PCH5</th>\n",
       "      <th>SMA_PCH15</th>\n",
       "      <th>SMA_PCH50</th>\n",
       "      <th>EMA_PCH5</th>\n",
       "      <th>EMA_PCH15</th>\n",
       "      <th>EMA_PCH50</th>\n",
       "      <th>ROC5</th>\n",
       "      <th>...</th>\n",
       "      <th>MOM_BIN50</th>\n",
       "      <th>macd_BIN</th>\n",
       "      <th>Beta_DOW</th>\n",
       "      <th>Beta_NDQ</th>\n",
       "      <th>Beta_NKK</th>\n",
       "      <th>Beta_NFTY</th>\n",
       "      <th>Beta_EURINR</th>\n",
       "      <th>Beta_GBPINR</th>\n",
       "      <th>Beta_USDINR</th>\n",
       "      <th>Beta_JPYINR</th>\n",
       "    </tr>\n",
       "    <tr>\n",
       "      <th>Date</th>\n",
       "      <th></th>\n",
       "      <th></th>\n",
       "      <th></th>\n",
       "      <th></th>\n",
       "      <th></th>\n",
       "      <th></th>\n",
       "      <th></th>\n",
       "      <th></th>\n",
       "      <th></th>\n",
       "      <th></th>\n",
       "      <th></th>\n",
       "      <th></th>\n",
       "      <th></th>\n",
       "      <th></th>\n",
       "      <th></th>\n",
       "      <th></th>\n",
       "      <th></th>\n",
       "      <th></th>\n",
       "      <th></th>\n",
       "      <th></th>\n",
       "      <th></th>\n",
       "    </tr>\n",
       "  </thead>\n",
       "  <tbody>\n",
       "    <tr>\n",
       "      <th>2020-02-19</th>\n",
       "      <td>0</td>\n",
       "      <td>0</td>\n",
       "      <td>0</td>\n",
       "      <td>-0.083435</td>\n",
       "      <td>-5.423190</td>\n",
       "      <td>-9.918378</td>\n",
       "      <td>-0.413229</td>\n",
       "      <td>-5.026705</td>\n",
       "      <td>-9.290481</td>\n",
       "      <td>-2.044990</td>\n",
       "      <td>...</td>\n",
       "      <td>0</td>\n",
       "      <td>0</td>\n",
       "      <td>-0.039830</td>\n",
       "      <td>-0.116234</td>\n",
       "      <td>0.071655</td>\n",
       "      <td>0.216281</td>\n",
       "      <td>-0.074886</td>\n",
       "      <td>-0.093949</td>\n",
       "      <td>0.003792</td>\n",
       "      <td>-0.057048</td>\n",
       "    </tr>\n",
       "    <tr>\n",
       "      <th>2020-02-19</th>\n",
       "      <td>1</td>\n",
       "      <td>1</td>\n",
       "      <td>0</td>\n",
       "      <td>0.453605</td>\n",
       "      <td>-2.756228</td>\n",
       "      <td>-3.823274</td>\n",
       "      <td>0.019421</td>\n",
       "      <td>-1.973967</td>\n",
       "      <td>-3.036060</td>\n",
       "      <td>-1.640437</td>\n",
       "      <td>...</td>\n",
       "      <td>1</td>\n",
       "      <td>0</td>\n",
       "      <td>0.048040</td>\n",
       "      <td>-0.093151</td>\n",
       "      <td>0.198153</td>\n",
       "      <td>-0.040712</td>\n",
       "      <td>0.011812</td>\n",
       "      <td>0.075510</td>\n",
       "      <td>-0.033569</td>\n",
       "      <td>-0.066131</td>\n",
       "    </tr>\n",
       "    <tr>\n",
       "      <th>2020-02-19</th>\n",
       "      <td>0</td>\n",
       "      <td>0</td>\n",
       "      <td>0</td>\n",
       "      <td>1.498947</td>\n",
       "      <td>0.557620</td>\n",
       "      <td>1.671011</td>\n",
       "      <td>1.238988</td>\n",
       "      <td>0.569681</td>\n",
       "      <td>1.763745</td>\n",
       "      <td>3.468054</td>\n",
       "      <td>...</td>\n",
       "      <td>1</td>\n",
       "      <td>0</td>\n",
       "      <td>0.066230</td>\n",
       "      <td>0.041804</td>\n",
       "      <td>0.054788</td>\n",
       "      <td>0.187718</td>\n",
       "      <td>-0.055520</td>\n",
       "      <td>-0.087009</td>\n",
       "      <td>0.000996</td>\n",
       "      <td>-0.039312</td>\n",
       "    </tr>\n",
       "    <tr>\n",
       "      <th>2020-02-19</th>\n",
       "      <td>0</td>\n",
       "      <td>0</td>\n",
       "      <td>0</td>\n",
       "      <td>-5.824043</td>\n",
       "      <td>-12.425582</td>\n",
       "      <td>-15.024459</td>\n",
       "      <td>-4.806803</td>\n",
       "      <td>-11.077480</td>\n",
       "      <td>-17.173848</td>\n",
       "      <td>-12.643677</td>\n",
       "      <td>...</td>\n",
       "      <td>0</td>\n",
       "      <td>0</td>\n",
       "      <td>0.075114</td>\n",
       "      <td>0.025741</td>\n",
       "      <td>0.026370</td>\n",
       "      <td>0.107172</td>\n",
       "      <td>-0.046267</td>\n",
       "      <td>-0.059126</td>\n",
       "      <td>-0.017105</td>\n",
       "      <td>-0.042540</td>\n",
       "    </tr>\n",
       "    <tr>\n",
       "      <th>2020-02-19</th>\n",
       "      <td>0</td>\n",
       "      <td>0</td>\n",
       "      <td>0</td>\n",
       "      <td>5.888256</td>\n",
       "      <td>11.797952</td>\n",
       "      <td>18.543765</td>\n",
       "      <td>4.798931</td>\n",
       "      <td>9.423687</td>\n",
       "      <td>16.202761</td>\n",
       "      <td>4.628098</td>\n",
       "      <td>...</td>\n",
       "      <td>1</td>\n",
       "      <td>1</td>\n",
       "      <td>0.037577</td>\n",
       "      <td>0.003829</td>\n",
       "      <td>0.119772</td>\n",
       "      <td>0.136221</td>\n",
       "      <td>-0.042104</td>\n",
       "      <td>-0.072636</td>\n",
       "      <td>0.003153</td>\n",
       "      <td>-0.045078</td>\n",
       "    </tr>\n",
       "  </tbody>\n",
       "</table>\n",
       "<p>5 rows × 47 columns</p>\n",
       "</div>"
      ],
      "text/plain": [
       "            bin_gain  bin_gain_1%  bin_gain_2%  SMA_PCH5  SMA_PCH15  \\\n",
       "Date                                                                  \n",
       "2020-02-19         0            0            0 -0.083435  -5.423190   \n",
       "2020-02-19         1            1            0  0.453605  -2.756228   \n",
       "2020-02-19         0            0            0  1.498947   0.557620   \n",
       "2020-02-19         0            0            0 -5.824043 -12.425582   \n",
       "2020-02-19         0            0            0  5.888256  11.797952   \n",
       "\n",
       "            SMA_PCH50  EMA_PCH5  EMA_PCH15  EMA_PCH50       ROC5  ...  \\\n",
       "Date                                                              ...   \n",
       "2020-02-19  -9.918378 -0.413229  -5.026705  -9.290481  -2.044990  ...   \n",
       "2020-02-19  -3.823274  0.019421  -1.973967  -3.036060  -1.640437  ...   \n",
       "2020-02-19   1.671011  1.238988   0.569681   1.763745   3.468054  ...   \n",
       "2020-02-19 -15.024459 -4.806803 -11.077480 -17.173848 -12.643677  ...   \n",
       "2020-02-19  18.543765  4.798931   9.423687  16.202761   4.628098  ...   \n",
       "\n",
       "            MOM_BIN50  macd_BIN  Beta_DOW  Beta_NDQ  Beta_NKK  Beta_NFTY  \\\n",
       "Date                                                                       \n",
       "2020-02-19          0         0 -0.039830 -0.116234  0.071655   0.216281   \n",
       "2020-02-19          1         0  0.048040 -0.093151  0.198153  -0.040712   \n",
       "2020-02-19          1         0  0.066230  0.041804  0.054788   0.187718   \n",
       "2020-02-19          0         0  0.075114  0.025741  0.026370   0.107172   \n",
       "2020-02-19          1         1  0.037577  0.003829  0.119772   0.136221   \n",
       "\n",
       "            Beta_EURINR  Beta_GBPINR  Beta_USDINR  Beta_JPYINR  \n",
       "Date                                                            \n",
       "2020-02-19    -0.074886    -0.093949     0.003792    -0.057048  \n",
       "2020-02-19     0.011812     0.075510    -0.033569    -0.066131  \n",
       "2020-02-19    -0.055520    -0.087009     0.000996    -0.039312  \n",
       "2020-02-19    -0.046267    -0.059126    -0.017105    -0.042540  \n",
       "2020-02-19    -0.042104    -0.072636     0.003153    -0.045078  \n",
       "\n",
       "[5 rows x 47 columns]"
      ]
     },
     "execution_count": 140,
     "metadata": {},
     "output_type": "execute_result"
    }
   ],
   "source": [
    "df_test=df_subset[df_subset.index>='2020-02-19']\n",
    "df_test.head()"
   ]
  },
  {
   "cell_type": "code",
   "execution_count": 141,
   "metadata": {},
   "outputs": [],
   "source": [
    "from sklearn.ensemble import RandomForestClassifier"
   ]
  },
  {
   "cell_type": "code",
   "execution_count": 142,
   "metadata": {},
   "outputs": [
    {
     "name": "stderr",
     "output_type": "stream",
     "text": [
      "C:\\Anaconda3\\lib\\site-packages\\pandas\\core\\frame.py:3997: SettingWithCopyWarning: \n",
      "A value is trying to be set on a copy of a slice from a DataFrame\n",
      "\n",
      "See the caveats in the documentation: https://pandas.pydata.org/pandas-docs/stable/user_guide/indexing.html#returning-a-view-versus-a-copy\n",
      "  errors=errors,\n"
     ]
    }
   ],
   "source": [
    "y_train=df_train['bin_gain_2%']\n",
    "df_train.drop('bin_gain_2%',axis=1,inplace=True)\n",
    "y_test=df_test['bin_gain_2%']\n",
    "df_test.drop('bin_gain_2%',axis=1,inplace=True)"
   ]
  },
  {
   "cell_type": "code",
   "execution_count": 164,
   "metadata": {},
   "outputs": [
    {
     "data": {
      "text/plain": [
       "RandomForestClassifier(bootstrap=True, ccp_alpha=0.0, class_weight=None,\n",
       "                       criterion='gini', max_depth=10, max_features=10,\n",
       "                       max_leaf_nodes=None, max_samples=None,\n",
       "                       min_impurity_decrease=0.0, min_impurity_split=None,\n",
       "                       min_samples_leaf=1, min_samples_split=2,\n",
       "                       min_weight_fraction_leaf=0.0, n_estimators=50,\n",
       "                       n_jobs=None, oob_score=False, random_state=None,\n",
       "                       verbose=0, warm_start=False)"
      ]
     },
     "execution_count": 164,
     "metadata": {},
     "output_type": "execute_result"
    }
   ],
   "source": [
    "rf=RandomForestClassifier(n_estimators=50,max_depth=10,max_features=10)\n",
    "rf.fit(df_train,y_train)"
   ]
  },
  {
   "cell_type": "code",
   "execution_count": 165,
   "metadata": {},
   "outputs": [
    {
     "data": {
      "text/plain": [
       "0.8935786406340551"
      ]
     },
     "execution_count": 165,
     "metadata": {},
     "output_type": "execute_result"
    }
   ],
   "source": [
    "rf.score(df_train,y_train)"
   ]
  },
  {
   "cell_type": "code",
   "execution_count": 166,
   "metadata": {},
   "outputs": [
    {
     "data": {
      "text/plain": [
       "0.8481848184818482"
      ]
     },
     "execution_count": 166,
     "metadata": {},
     "output_type": "execute_result"
    }
   ],
   "source": [
    "rf.score(df_test,y_test)"
   ]
  },
  {
   "cell_type": "code",
   "execution_count": null,
   "metadata": {},
   "outputs": [],
   "source": []
  },
  {
   "cell_type": "code",
   "execution_count": null,
   "metadata": {},
   "outputs": [],
   "source": [
    "X-train"
   ]
  }
 ],
 "metadata": {
  "kernelspec": {
   "display_name": "Python 3",
   "language": "python",
   "name": "python3"
  },
  "language_info": {
   "codemirror_mode": {
    "name": "ipython",
    "version": 3
   },
   "file_extension": ".py",
   "mimetype": "text/x-python",
   "name": "python",
   "nbconvert_exporter": "python",
   "pygments_lexer": "ipython3",
   "version": "3.7.3"
  }
 },
 "nbformat": 4,
 "nbformat_minor": 4
}
