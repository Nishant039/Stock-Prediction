{
 "cells": [
  {
   "cell_type": "code",
   "execution_count": 14,
   "metadata": {},
   "outputs": [],
   "source": [
    "import pandas as pd\n",
    "import numpy as np"
   ]
  },
  {
   "cell_type": "code",
   "execution_count": 15,
   "metadata": {},
   "outputs": [],
   "source": [
    "import datetime"
   ]
  },
  {
   "cell_type": "code",
   "execution_count": 16,
   "metadata": {},
   "outputs": [],
   "source": [
    "import yfinance as fyf\n",
    "from pandas_datareader import data as pdr"
   ]
  },
  {
   "cell_type": "code",
   "execution_count": 17,
   "metadata": {},
   "outputs": [],
   "source": [
    "# Timeline used for historical required data\n",
    "start = datetime.datetime(2015,1,1)\n",
    "end = datetime.datetime(2020,2,20)"
   ]
  },
  {
   "cell_type": "code",
   "execution_count": null,
   "metadata": {},
   "outputs": [],
   "source": [
    "# STOCKS\n",
    "# File Read\n",
    "stock_csv = pd.read_csv('EQUITY_L.csv')\n",
    "stock_list = stock_csv['SYMBOL'].tolist()\n",
    "\n",
    "#Grab STOCK data from yahoo finance \n",
    "data = pdr.get_data_yahoo(stock_list, start, end)\n",
    "\n",
    "# Transpose symbol row to column\n",
    "df = data.stack()\n",
    "df.reset_index(inplace=True)\n",
    "\n",
    "# Write to csv file\n",
    "df.sort_values(['Symbols','Date']).to_csv('Stock_data_20200225.csv',index=False)\n"
   ]
  },
  {
   "cell_type": "code",
   "execution_count": 20,
   "metadata": {},
   "outputs": [],
   "source": [
    "# INDICES\n",
    "# File Read\n",
    "Index_csv = pd.read_csv('Index Symbol.csv')\n",
    "Index_list = Index_csv['Symbol'].tolist()\n",
    "\n",
    "#Grab Indices data from yahoo finance \n",
    "Index_df = pdr.get_data_yahoo(Index_list, start, end)\n",
    "\n",
    "# Transpose symbol row to column\n",
    "df_I = Index_df.stack()\n",
    "df_I.reset_index(inplace=True)\n",
    "\n",
    "# Write to csv file\n",
    "df_I.sort_values(['Symbols','Date']).to_csv('Index_data_20200225.csv',index=False)"
   ]
  },
  {
   "cell_type": "code",
   "execution_count": 21,
   "metadata": {},
   "outputs": [],
   "source": [
    "# Currency\n",
    "# File Read\n",
    "Curr_csv = pd.read_csv('Curr Symbol.csv')\n",
    "Curr_list = Curr_csv['Symbol'].tolist()\n",
    "\n",
    "#Grab Currancy data from yahoo finance \n",
    "Curr_df = pdr.get_data_yahoo(Curr_list, start, end)\n",
    "\n",
    "# Transpose symbol row to column\n",
    "df_C = Curr_df.stack()\n",
    "df_C.reset_index(inplace=True)\n",
    "\n",
    "# Write to csv file\n",
    "df_C.sort_values(['Symbols','Date']).to_csv('Curr_data_20200225.csv',index=False)"
   ]
  },
  {
   "cell_type": "code",
   "execution_count": null,
   "metadata": {},
   "outputs": [],
   "source": []
  },
  {
   "cell_type": "code",
   "execution_count": null,
   "metadata": {},
   "outputs": [],
   "source": []
  },
  {
   "cell_type": "code",
   "execution_count": null,
   "metadata": {},
   "outputs": [],
   "source": []
  }
 ],
 "metadata": {
  "kernelspec": {
   "display_name": "Python 3",
   "language": "python",
   "name": "python3"
  },
  "language_info": {
   "codemirror_mode": {
    "name": "ipython",
    "version": 3
   },
   "file_extension": ".py",
   "mimetype": "text/x-python",
   "name": "python",
   "nbconvert_exporter": "python",
   "pygments_lexer": "ipython3",
   "version": "3.7.3"
  }
 },
 "nbformat": 4,
 "nbformat_minor": 2
}
